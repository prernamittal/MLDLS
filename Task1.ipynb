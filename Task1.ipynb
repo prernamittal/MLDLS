{
  "nbformat": 4,
  "nbformat_minor": 0,
  "metadata": {
    "colab": {
      "name": "Task1.ipynb",
      "provenance": [],
      "collapsed_sections": [],
      "authorship_tag": "ABX9TyNYU7VYvcWuHke8GXw9yBYB",
      "include_colab_link": true
    },
    "kernelspec": {
      "name": "python3",
      "display_name": "Python 3"
    },
    "language_info": {
      "name": "python"
    }
  },
  "cells": [
    {
      "cell_type": "markdown",
      "metadata": {
        "id": "view-in-github",
        "colab_type": "text"
      },
      "source": [
        "<a href=\"https://colab.research.google.com/github/prernamittal/MLDLS/blob/main/Task1.ipynb\" target=\"_parent\"><img src=\"https://colab.research.google.com/assets/colab-badge.svg\" alt=\"Open In Colab\"/></a>"
      ]
    },
    {
      "cell_type": "markdown",
      "source": [
        "<h2><b>Naive Bayes</b><br></h2>\n",
        "Naive Bayes is based on Bayes’s theorem which gives an assumption of independence among predictors. This classifier assumes that the presence of a particular feature in a class is not related to the presence of any other\n",
        "variable. <br><br>\n",
        "<b>Pros:</b></br>\n",
        "\n",
        "<li>This algorithm works very fast.\n",
        "<li>It can also be used to solve multi-class prediction problems as it’s quite useful with them.\n",
        "<li>This classifier performs better than other models with less training data if the assumption of independence of features holds.<br><br>\n",
        "<b>Cons:</b><br>\n",
        "<li>It assumes that all the features are independent which means anyone can hardly find a set of independent features."
      ],
      "metadata": {
        "id": "rINwltBQ80bj"
      }
    },
    {
      "cell_type": "code",
      "source": [
        "from sklearn.datasets import load_iris\n",
        "from sklearn.model_selection import train_test_split\n",
        "from sklearn.naive_bayes import GaussianNB\n",
        "X, y = load_iris(return_X_y=True)\n",
        "X_train, X_test, y_train, y_test = train_test_split(X, y, test_size=0.25, random_state=142)\n",
        "Naive_Bayes = GaussianNB()\n",
        "Naive_Bayes.fit(X_train, y_train)\n",
        "prediction_results = Naive_Bayes.predict(X_test)  \n",
        "print(prediction_results)"
      ],
      "metadata": {
        "colab": {
          "base_uri": "https://localhost:8080/"
        },
        "id": "JmunRj6w89N7",
        "outputId": "97b8a2d7-0021-4a55-866d-9bd9cd697c9f"
      },
      "execution_count": null,
      "outputs": [
        {
          "output_type": "stream",
          "name": "stdout",
          "text": [
            "[0 1 1 2 1 1 0 0 2 1 1 1 2 0 1 0 2 1 1 2 2 1 0 1 2 1 2 2 0 1 2 1 2 1 2 2 1\n",
            " 2]\n"
          ]
        }
      ]
    },
    {
      "cell_type": "markdown",
      "source": [
        "<h2><b>SVM (Support Vector Machine)</h2></b><br>\n",
        "This is a supervised machine learning algorithm that is very often used for both classification and regression challenges. However, it is mostly used in classification problems.<br><br>\n",
        "<b>Pros:<br></b>\n",
        "\n",
        "<li>SVM works relatively well when there is a clear margin of separation between classes.\n",
        "<li>SVM is more effective in high-dimensional spaces.<br><br>\n",
        "<b>Cons:</b><br>\n",
        "<li>SVM  is not suitable for large data sets.\n",
        "<li>SVM does not perform very well when the data set has more noise i.e. when target classes are overlapping. So, it needs to be handled.\n"
      ],
      "metadata": {
        "id": "szW21T7ADP65"
      }
    },
    {
      "cell_type": "code",
      "source": [
        "from sklearn import svm\n",
        "svm_clf = svm.SVC()\n",
        "X_train, X_test, y_train, y_test = train_test_split(X, y, test_size=0.25, random_state=142)\n",
        "svm_clf.fit(X_train, y_train)\n",
        "prediction_results = svm_clf.predict(X_test[:7,:])\n",
        "print(prediction_results)"
      ],
      "metadata": {
        "colab": {
          "base_uri": "https://localhost:8080/"
        },
        "id": "oP29DON1DQGi",
        "outputId": "4541591b-72b8-4966-e412-9e931b3bc6a1"
      },
      "execution_count": null,
      "outputs": [
        {
          "output_type": "stream",
          "name": "stdout",
          "text": [
            "[0 1 1 2 1 1 0]\n"
          ]
        }
      ]
    },
    {
      "cell_type": "markdown",
      "source": [
        "<b><h2>Decision Tree</h2></b><br>\n",
        "They are used for both classification and regression problems. Decision trees mimic human-level thinking so it’s so simple to understand the data and make some good intuitions and interpretations. Each node of the tree represents a\n",
        "feature/attribute, each branch represents a decision/rule, and each leaf represents an outcome.<br><br>\n",
        "<b>Pros:</b><br>\n",
        "\n",
        "<li>When compared to other algorithms, decision trees require less effort for data preparation while pre-processing.\n",
        "<li>They do not require normalization of data and scaling as well.\n",
        "<li>Model made on decision tree is very intuitive and easy to explain to technical teams as well as to stakeholders also.<br><br>\n",
        "<b>Cons:</b><br>\n",
        "<li>If even a small change is done in the data, that can lead to a large change in the structure of the decision tree causing instability.\n",
        "<li>Sometimes calculation can go far more complex compared to other algorithms.\n",
        "<li>Decision trees often take higher time to train the model.\n"
      ],
      "metadata": {
        "id": "21QVn3KvDdca"
      }
    },
    {
      "cell_type": "code",
      "source": [
        "from sklearn import tree\n",
        "dtc = tree.DecisionTreeClassifier()\n",
        "X_train, X_test, y_train, y_test = train_test_split(X, y, test_size=0.25, random_state=142)\n",
        "dtc.fit(X_train, y_train)\n",
        "prediction_results = dtc.predict(X_test[:7,:])\n",
        "print(prediction_results)"
      ],
      "metadata": {
        "colab": {
          "base_uri": "https://localhost:8080/"
        },
        "id": "0sgpbEHEDdmn",
        "outputId": "c397f620-eb51-4cf8-fa40-252517413f4a"
      },
      "execution_count": null,
      "outputs": [
        {
          "output_type": "stream",
          "name": "stdout",
          "text": [
            "[0 1 1 2 1 1 0]\n"
          ]
        }
      ]
    }
  ]
}